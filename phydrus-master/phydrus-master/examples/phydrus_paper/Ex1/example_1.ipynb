{
 "cells": [
  {
   "cell_type": "markdown",
   "metadata": {},
   "source": [
    "# Step-by-step Guide: Constructing a model with Phydrus\n",
    "\n",
    "*Authors: R.A. Collenteur & M. Vremec*\n",
    "\n",
    "This notebook is part of a manuscript that is currently being prepared (spring 2020): \n",
    "\n",
    "*R.A. Collenteur, G. Brunetti, M. Vremec & J. Simunek (in preparation) Phydrus: a Python implementation of the Hydrus-1D model.*\n",
    "\n",
    "---\n",
    "\n",
    "This Notebook presents the basics steps to create a Phydrus model simulating water flow through the vadose zone. In the presented example, the workflow is divided into several steps, to demonstrate the usage of Phydrus methods:\n",
    "1. Import the Phydrus package\n",
    "2. Create the basic model\n",
    "3. Add processes and materials\n",
    "4. Add soil profile\n",
    "5. Add Root Water Uptake\n",
    "6. Add atmospheric boundary condition\n",
    "7. Add observations nodes\n",
    "8. Simulate the model\n",
    "9. Post-process the results\n",
    "___\n",
    "\n",
    "### 1. Import the Pydrus package"
   ]
  },
  {
   "cell_type": "code",
   "execution_count": 1,
   "metadata": {},
   "outputs": [],
   "source": [
    "import os\n",
    " \n",
    "import numpy as np\n",
    "import pandas as pd\n",
    "\n",
    "import matplotlib.pyplot as plt\n",
    "\n",
    "import phydrus as ps"
   ]
  },
  {
   "cell_type": "markdown",
   "metadata": {},
   "source": [
    "### 2. Create the basic model & add time information\n",
    "In the code block below a `Model` instance is created. The path to the Hydrus-1D executable has to be set at this stage. Phydrus will check the executable, and raise an Error if it is not found. "
   ]
  },
  {
   "cell_type": "code",
   "execution_count": 15,
   "metadata": {},
   "outputs": [],
   "source": [
    "#Folder where the Hydrus files are to be stored\n",
    "ws = \"output\"\n",
    "exe = os.path.join(os.getcwd(), \"../../hydrus\")\n",
    "\n",
    "# Create model\n",
    "ml = ps.Model(exe_name=exe, ws_name=ws, name=\"model\",\n",
    "              time_unit=\"days\", length_unit=\"cm\")\n",
    "\n",
    "ml.add_time_info(tinit=0, tmax=730);"
   ]
  },
  {
   "cell_type": "markdown",
   "metadata": {},
   "source": [
    "### 3. Add processes and materials\n",
    "In this step a model for the water flow is selected and top and bottom boundary conditions, using the `ml.add_waterflow` method. After that, we can use the `get_empty_material_df` method to obtain an empty DataFrame to define our soil hydraulic parameters for the different soil materials. In this example, the model contains to soil materials."
   ]
  },
  {
   "cell_type": "code",
   "execution_count": 16,
   "metadata": {},
   "outputs": [
    {
     "data": {
      "text/html": [
       "<div>\n",
       "<style scoped>\n",
       "    .dataframe tbody tr th:only-of-type {\n",
       "        vertical-align: middle;\n",
       "    }\n",
       "\n",
       "    .dataframe tbody tr th {\n",
       "        vertical-align: top;\n",
       "    }\n",
       "\n",
       "    .dataframe thead tr th {\n",
       "        text-align: left;\n",
       "    }\n",
       "</style>\n",
       "<table border=\"1\" class=\"dataframe\">\n",
       "  <thead>\n",
       "    <tr>\n",
       "      <th></th>\n",
       "      <th colspan=\"6\" halign=\"left\">water</th>\n",
       "    </tr>\n",
       "    <tr>\n",
       "      <th></th>\n",
       "      <th>thr</th>\n",
       "      <th>ths</th>\n",
       "      <th>Alfa</th>\n",
       "      <th>n</th>\n",
       "      <th>Ks</th>\n",
       "      <th>l</th>\n",
       "    </tr>\n",
       "  </thead>\n",
       "  <tbody>\n",
       "    <tr>\n",
       "      <th>1</th>\n",
       "      <td>0.0</td>\n",
       "      <td>0.3382</td>\n",
       "      <td>0.0111</td>\n",
       "      <td>1.4737</td>\n",
       "      <td>13</td>\n",
       "      <td>0.5</td>\n",
       "    </tr>\n",
       "    <tr>\n",
       "      <th>2</th>\n",
       "      <td>0.0</td>\n",
       "      <td>0.3579</td>\n",
       "      <td>0.0145</td>\n",
       "      <td>1.5234</td>\n",
       "      <td>50</td>\n",
       "      <td>0.5</td>\n",
       "    </tr>\n",
       "  </tbody>\n",
       "</table>\n",
       "</div>"
      ],
      "text/plain": [
       "  water                                 \n",
       "    thr     ths    Alfa       n  Ks    l\n",
       "1   0.0  0.3382  0.0111  1.4737  13  0.5\n",
       "2   0.0  0.3579  0.0145  1.5234  50  0.5"
      ]
     },
     "execution_count": 16,
     "metadata": {},
     "output_type": "execute_result"
    }
   ],
   "source": [
    "ml.add_waterflow(model=0, top_bc=3, bot_bc=4)\n",
    "\n",
    "m = ml.get_empty_material_df(n=2)\n",
    "m.loc[0:2] = [[0.0, 0.3382, 0.0111, 1.4737, 13, 0.5],\n",
    "              [0.0, 0.3579, 0.0145, 1.5234, 50, 0.5]]\n",
    "ml.add_material(m)"
   ]
  },
  {
   "cell_type": "markdown",
   "metadata": {},
   "source": [
    "### 4. Add Profile information\n",
    "We develop the linear function of potential root water uptake distribution  $S^*_{p}(z)$ vs depth, following Hoffman and van Genuchten. \n",
    "\n",
    "\n",
    "\\begin{equation}\n",
    "S^*_{p} = \\left \\{\n",
    "\\begin{aligned}\n",
    "&1 && \\text{for} && z>L-r_1 \\\\\n",
    "&\\frac{z-[L-(r_1 + r_2)]}{r_2} && \\text{for} && L-r_1 \\geq z \\geq L-(r_1 + r_2) \\\\\n",
    "&0 && \\text{for} && L-r_1 z < L-(r_1 + r_2) \n",
    "\\end{aligned} \\right.\n",
    "\\end{equation} "
   ]
  },
  {
   "cell_type": "code",
   "execution_count": 17,
   "metadata": {},
   "outputs": [
    {
     "data": {
      "text/plain": [
       "<matplotlib.axes._subplots.AxesSubplot at 0x11b03e210>"
      ]
     },
     "execution_count": 17,
     "metadata": {},
     "output_type": "execute_result"
    },
    {
     "data": {
      "image/png": "[encoded data removed]",
      "text/plain": [
       "<Figure size 216x432 with 1 Axes>"
      ]
     },
     "metadata": {
      "needs_background": "light"
     },
     "output_type": "display_data"
    }
   ],
   "source": [
    "# Define loop for potential root water uptake distribution proposed by Hoffman and Van Genuchten\n",
    "def z_loop(z, r1 = 10, r2 = 20):\n",
    "    if z > -r1:\n",
    "        return 1\n",
    "    elif z < -(r1 + r2):\n",
    "        return 0\n",
    "    else:\n",
    "        return(z+(r1+r2))/r2\n",
    "\n",
    "bottom = [-30, -100]  # Depth of the soil column\n",
    "nodes = 150  # Dictretize into n nodes\n",
    "ihead = -500  # Determine initial pressure head\n",
    "\n",
    "profile = ps.create_profile(bot=bottom, dx=1, h=ihead, mat=[1,2])\n",
    "profile[\"Beta\"] = profile.apply(lambda row: z_loop(row[\"x\"]), axis=1)\n",
    "ml.add_profile(profile)\n",
    "ml.plots.profile(figsize=(3,6))"
   ]
  },
  {
   "cell_type": "markdown",
   "metadata": {},
   "source": [
    "### 5. Add atmosphere boundary conditions\n",
    "Atmospheric boundary condition can be added easily by reading in a CSV file using Pandas `read_csv` method and adding it to the model. "
   ]
  },
  {
   "cell_type": "code",
   "execution_count": 18,
   "metadata": {},
   "outputs": [],
   "source": [
    "atm = pd.read_csv(\"../data/atmosphere.csv\", index_col=0)\n",
    "ml.add_atmospheric_bc(atm, hcrits=0)"
   ]
  },
  {
   "cell_type": "markdown",
   "metadata": {},
   "source": [
    "### 6. Add root water uptake"
   ]
  },
  {
   "cell_type": "code",
   "execution_count": 19,
   "metadata": {},
   "outputs": [],
   "source": [
    "ml.add_root_uptake(model=0, p2h=-1500, p2l=-1500, poptm=[-25, -25])"
   ]
  },
  {
   "cell_type": "markdown",
   "metadata": {},
   "source": [
    "### 7. Add observation nodes"
   ]
  },
  {
   "cell_type": "code",
   "execution_count": 20,
   "metadata": {},
   "outputs": [],
   "source": [
    "#Number of the node -- > write script to get node closest to desired depth\n",
    "ml.add_obs_nodes([-30, -60])"
   ]
  },
  {
   "cell_type": "markdown",
   "metadata": {},
   "source": [
    "### 8. Write hydrus input files & run hydrus \n",
    "Before we can simulate, we write all model information to files. "
   ]
  },
  {
   "cell_type": "code",
   "execution_count": 21,
   "metadata": {},
   "outputs": [
    {
     "name": "stdout",
     "output_type": "stream",
     "text": [
      "Successfully wrote output/SELECTOR.IN\n",
      "Successfully wrote output/PROFILE.DAT\n",
      "Successfully wrote output/ATMOSPH.IN\n"
     ]
    },
    {
     "data": {
      "text/plain": [
       "CompletedProcess(args=['/Users/Raoul/Projects/phydrus/examples/phydrus_paper/Ex1/../../hydrus', 'output', '-1'], returncode=0)"
      ]
     },
     "execution_count": 21,
     "metadata": {},
     "output_type": "execute_result"
    }
   ],
   "source": [
    "ml.write_input(verbose=False)\n",
    "ml.simulate()"
   ]
  },
  {
   "cell_type": "markdown",
   "metadata": {},
   "source": [
    "### 9a. Plot results\n",
    "Plot pressure for soil column at the end of the simulation."
   ]
  },
  {
   "cell_type": "code",
   "execution_count": 26,
   "metadata": {},
   "outputs": [
    {
     "data": {
      "text/plain": [
       "array([<matplotlib.axes._subplots.AxesSubplot object at 0x11b94d410>,\n",
       "       <matplotlib.axes._subplots.AxesSubplot object at 0x11b9b0a50>],\n",
       "      dtype=object)"
      ]
     },
     "execution_count": 26,
     "metadata": {},
     "output_type": "execute_result"
    },
    {
     "data": {
      "image/png": "[encoded data removed]",
      "text/plain": [
       "<Figure size 432x180 with 2 Axes>"
      ]
     },
     "metadata": {
      "needs_background": "light"
     },
     "output_type": "display_data"
    }
   ],
   "source": [
    "ml.plots.soil_properties(figsize=(6, 2.5))\n",
    "#plt.savefig(\"../../figures/soil_properties.eps\", bbox_inches=\"tight\", dpi=300)"
   ]
  },
  {
   "cell_type": "markdown",
   "metadata": {},
   "source": [
    "### 9b. Plot the drainage over time"
   ]
  },
  {
   "cell_type": "code",
   "execution_count": 27,
   "metadata": {},
   "outputs": [
    {
     "data": {
      "image/png": "[encoded data removed]",
      "text/plain": [
       "<Figure size 432x180 with 2 Axes>"
      ]
     },
     "metadata": {
      "needs_background": "light"
     },
     "output_type": "display_data"
    }
   ],
   "source": [
    "axes = ml.plots.water_flow(\"Bottom Flux\", figsize=(6, 2.5))\n",
    "#plt.savefig(\"../../figures/water_flow.eps\", bbox_inches=\"tight\", dpi=300)"
   ]
  },
  {
   "cell_type": "markdown",
   "metadata": {},
   "source": [
    "### 9c. Plot the water content over time"
   ]
  },
  {
   "cell_type": "code",
   "execution_count": 28,
   "metadata": {},
   "outputs": [
    {
     "data": {
      "text/plain": [
       "[Text(-100.0, 0, 'Jan-07'), Text(0.0, 0, 'Jan-08'), Text(100.0, 0, 'Jan-09')]"
      ]
     },
     "execution_count": 28,
     "metadata": {},
     "output_type": "execute_result"
    },
    {
     "data": {
      "image/png": "[encoded data removed]",
      "text/plain": [
       "<Figure size 432x216 with 2 Axes>"
      ]
     },
     "metadata": {
      "needs_background": "light"
     },
     "output_type": "display_data"
    }
   ],
   "source": [
    "df = ml.read_obs_node()\n",
    "\n",
    "fig, [ax0, ax1] = plt.subplots(2,1, figsize=(6,3), sharex=True, sharey=True)\n",
    "df[ml.obs_nodes[0]][\"theta\"].plot(ax=ax0, marker=\".\", c=\"k\", linestyle=\"\", markersize=3)\n",
    "ax0.set_title(\"Water content at -30 cm\")\n",
    "ax0.set_ylabel(r\"$\\theta$ [-]\")\n",
    "\n",
    "df[ml.obs_nodes[1]][\"theta\"].plot(ax=ax1, marker=\".\", c=\"k\", linestyle=\"\", markersize=3)\n",
    "ax1.set_title(\"Water content at -60 cm\")\n",
    "ax1.set_ylabel(r\"$\\theta$ [-]\")\n",
    "plt.tight_layout()\n",
    "ax1.set_xlabel(\"\")\n",
    "ax1.set_xlim(0,730)\n",
    "ax1.set_xticks([0,365,730])\n",
    "ax1.set_xticklabels([\"Jan-07\", \"Jan-08\", \"Jan-09\"])\n",
    "#plt.savefig(\"../../figures/water_content.eps\", bbox_inches=\"tight\", dpi=300)"
   ]
  },
  {
   "cell_type": "code",
   "execution_count": 12,
   "metadata": {},
   "outputs": [],
   "source": [
    "df[ml.obs_nodes[0]].to_csv(\"../data/wc_30cm.csv\")\n",
    "df[ml.obs_nodes[1]].to_csv(\"../data/wc_60cm.csv\")"
   ]
  },
  {
   "cell_type": "markdown",
   "metadata": {},
   "source": [
    "### 9c. Update the soil profile plot with the pressure head"
   ]
  },
  {
   "cell_type": "code",
   "execution_count": 25,
   "metadata": {},
   "outputs": [
    {
     "data": {
      "text/plain": [
       "<matplotlib.axes._subplots.AxesSubplot at 0x10f9d7910>"
      ]
     },
     "execution_count": 25,
     "metadata": {},
     "output_type": "execute_result"
    },
    {
     "data": {
      "image/png": "[encoded data removed]",
      "text/plain": [
       "<Figure size 216x432 with 1 Axes>"
      ]
     },
     "metadata": {
      "needs_background": "light"
     },
     "output_type": "display_data"
    }
   ],
   "source": [
    "head = ml.read_nod_inf(times=[730]).iloc[:, 2]\n",
    "ml.profile.loc[:, \"h\"] = head\n",
    "ml.plots.profile()"
   ]
  }
 ],
 "metadata": {
  "kernelspec": {
   "display_name": "Python 3",
   "language": "python",
   "name": "python3"
  },
  "language_info": {
   "codemirror_mode": {
    "name": "ipython",
    "version": 3
   },
   "file_extension": ".py",
   "mimetype": "text/x-python",
   "name": "python",
   "nbconvert_exporter": "python",
   "pygments_lexer": "ipython3",
   "version": "3.7.6"
  }
 },
 "nbformat": 4,
 "nbformat_minor": 4
}
